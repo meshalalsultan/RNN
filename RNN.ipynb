{
  "nbformat": 4,
  "nbformat_minor": 0,
  "metadata": {
    "colab": {
      "name": "RNN.ipynb",
      "provenance": []
    },
    "kernelspec": {
      "name": "python3",
      "display_name": "Python 3"
    }
  },
  "cells": [
    {
      "cell_type": "code",
      "metadata": {
        "id": "hgkAkS6i6ZDR",
        "colab_type": "code",
        "colab": {
          "base_uri": "https://localhost:8080/",
          "height": 34
        },
        "outputId": "e9fdfd38-c2de-41b1-bde6-e015b879a008"
      },
      "source": [
        "%pylab inline\n",
        "\n",
        "import math"
      ],
      "execution_count": 4,
      "outputs": [
        {
          "output_type": "stream",
          "text": [
            "Populating the interactive namespace from numpy and matplotlib\n"
          ],
          "name": "stdout"
        }
      ]
    },
    {
      "cell_type": "code",
      "metadata": {
        "id": "cLwkV_wnEu6s",
        "colab_type": "code",
        "colab": {}
      },
      "source": [
        "sin_wave = np.array([math.sin(x) for x in np.arange(200)])"
      ],
      "execution_count": 0,
      "outputs": []
    },
    {
      "cell_type": "code",
      "metadata": {
        "id": "45jIMtlREv3H",
        "colab_type": "code",
        "colab": {
          "base_uri": "https://localhost:8080/",
          "height": 282
        },
        "outputId": "e72c3cf5-d12b-46ad-c3a3-1cecd952b6b8"
      },
      "source": [
        "plt.plot(sin_wave[:50])"
      ],
      "execution_count": 6,
      "outputs": [
        {
          "output_type": "execute_result",
          "data": {
            "text/plain": [
              "[<matplotlib.lines.Line2D at 0x7ff132cd93c8>]"
            ]
          },
          "metadata": {
            "tags": []
          },
          "execution_count": 6
        },
        {
          "output_type": "display_data",
          "data": {
            "image/png": "[encoded data removed]",
            "text/plain": [
              "<Figure size 432x288 with 1 Axes>"
            ]
          },
          "metadata": {
            "tags": []
          }
        }
      ]
    },
    {
      "cell_type": "code",
      "metadata": {
        "id": "BuvdzY_yE0eu",
        "colab_type": "code",
        "colab": {}
      },
      "source": [
        "X = []\n",
        "Y = []\n",
        "\n",
        "seq_len = 50\n",
        "num_records = len(sin_wave) - seq_len\n",
        "\n",
        "for i in range(num_records - 50):\n",
        "    X.append(sin_wave[i:i+seq_len])\n",
        "    Y.append(sin_wave[i+seq_len])\n",
        "    \n",
        "X = np.array(X)\n",
        "X = np.expand_dims(X, axis=2)\n",
        "\n",
        "Y = np.array(Y)\n",
        "Y = np.expand_dims(Y, axis=1)"
      ],
      "execution_count": 0,
      "outputs": []
    },
    {
      "cell_type": "code",
      "metadata": {
        "id": "R5g2yI3KE8e6",
        "colab_type": "code",
        "colab": {
          "base_uri": "https://localhost:8080/",
          "height": 34
        },
        "outputId": "643dac1d-76a3-43d4-cb8b-2e62389cf280"
      },
      "source": [
        "X.shape, Y.shape"
      ],
      "execution_count": 9,
      "outputs": [
        {
          "output_type": "execute_result",
          "data": {
            "text/plain": [
              "((100, 50, 1), (100, 1))"
            ]
          },
          "metadata": {
            "tags": []
          },
          "execution_count": 9
        }
      ]
    },
    {
      "cell_type": "code",
      "metadata": {
        "id": "zeLqZOSwE9wO",
        "colab_type": "code",
        "colab": {}
      },
      "source": [
        "X_val = []\n",
        "Y_val = []\n",
        "\n",
        "for i in range(num_records - 50, num_records):\n",
        "    X_val.append(sin_wave[i:i+seq_len])\n",
        "    Y_val.append(sin_wave[i+seq_len])\n",
        "    \n",
        "X_val = np.array(X_val)\n",
        "X_val = np.expand_dims(X_val, axis=2)\n",
        "\n",
        "Y_val = np.array(Y_val)\n",
        "Y_val = np.expand_dims(Y_val, axis=1)"
      ],
      "execution_count": 0,
      "outputs": []
    },
    {
      "cell_type": "code",
      "metadata": {
        "id": "krWovPbhFBqX",
        "colab_type": "code",
        "colab": {}
      },
      "source": [
        "learning_rate = 0.0001    \n",
        "nepoch = 25               \n",
        "T = 50                   # length of sequence\n",
        "hidden_dim = 100         \n",
        "output_dim = 1\n",
        "\n",
        "bptt_truncate = 5\n",
        "min_clip_value = -10\n",
        "max_clip_value = 10"
      ],
      "execution_count": 0,
      "outputs": []
    },
    {
      "cell_type": "code",
      "metadata": {
        "id": "GZ6cjgCIFFyP",
        "colab_type": "code",
        "colab": {}
      },
      "source": [
        "U = np.random.uniform(0, 1, (hidden_dim, T))\n",
        "W = np.random.uniform(0, 1, (hidden_dim, hidden_dim))\n",
        "V = np.random.uniform(0, 1, (output_dim, hidden_dim))"
      ],
      "execution_count": 0,
      "outputs": []
    },
    {
      "cell_type": "code",
      "metadata": {
        "id": "3CaS3q37FJZ4",
        "colab_type": "code",
        "colab": {}
      },
      "source": [
        ""
      ],
      "execution_count": 0,
      "outputs": []
    },
    {
      "cell_type": "markdown",
      "metadata": {
        "id": "gN6MF_eRFM_Q",
        "colab_type": "text"
      },
      "source": [
        "U : هي مصفوفة الوزن للأوزان بين الدخل والطبقات المخفية.\n",
        "V : هي مصفوفة الوزن للأوزان بين الطبقات المخفية وطبقة الخرج.\n",
        "W : هي مصفوفة الوزن للأوزان المشتركة في طبقة الRNN (الطبقة المخفية).\n",
        "وفي النهاية، سنقوم بتعريف دالة التفعيل sigmoid، لاستخدامها في الطبقات المخفية."
      ]
    },
    {
      "cell_type": "code",
      "metadata": {
        "id": "iePf5tjwFOyS",
        "colab_type": "code",
        "colab": {}
      },
      "source": [
        "def sigmoid(x):\n",
        "    return 1 / (1 + np.exp(-x))"
      ],
      "execution_count": 0,
      "outputs": []
    },
    {
      "cell_type": "code",
      "metadata": {
        "id": "HDrl-9hpFSrB",
        "colab_type": "code",
        "colab": {}
      },
      "source": [
        ""
      ],
      "execution_count": 0,
      "outputs": []
    },
    {
      "cell_type": "markdown",
      "metadata": {
        "id": "lmMS0BhyFYIu",
        "colab_type": "text"
      },
      "source": [
        "الخطوة (2) : تدريب النموذج\n",
        "\n",
        "الآن وقد قمنا بتعريف النموذج، نستطيع أخيرا البدء في تدريبه على تسلسل البيانات. نستطيع تقسيم خطوات التدريب لخطوات صغيرة هي :\n",
        "\n",
        "الخطوة 2.1: التحقق من الخسارة في بيانات التدريب.\n",
        "الخطوة 2.1.1: Forward pass أو تمرير للأمام.\n",
        "الخطوة 2.1.2: حساب الخطأ.\n",
        "الخطوة 2.2: التحقق من الخسارة في بيانات التحقق من الصحة validation data.\n",
        "الخطوة 2.2.1: Forward pass.\n",
        "الخطوة 2.2.2: حساب الخطأ.\n",
        "الخطوة 2.3: بدء التدريب الفعلي.\n",
        "الخطوة 2.3.1: Forward pass.\n",
        "الخطوة 2.3.2: Backpropagate Error. \n",
        "الخطوة 2.3.3: تحديث الأوزان.\n",
        "نحتاج لتكرار هذه الخطوات حتى تتقارب النتائج تقريبا، إذا بدأ الموديل بعمل overfit فربما ينبغي عليك التوقف، أو قم بإعادة تعريف أرقام الepochs.\n",
        "\n",
        "الخطوة 2.1: التحقق من الخسارة في بيانات التدريب\n",
        "\n",
        "سنقوم بعمل forward pass عبر نموذج الRNN، وحساب تربيع الخطأ للتنبؤات لكل السجلات records لحساب قيمة الخسارة loss value."
      ]
    },
    {
      "cell_type": "code",
      "metadata": {
        "id": "nXKrYDnfFaEg",
        "colab_type": "code",
        "colab": {}
      },
      "source": [
        "for epoch in range(nepoch):\n",
        "    # check loss on train\n",
        "    loss = 0.0\n",
        "    \n",
        "    # do a forward pass to get prediction\n",
        "    for i in range(Y.shape[0]):\n",
        "        x, y = X[i], Y[i]                    # get input, output values of each record\n",
        "        prev_s = np.zeros((hidden_dim, 1))   # here, prev-s is the value of the previous activation of hidden layer; which is initialized as all zeroes\n",
        "        for t in range(T):\n",
        "            new_input = np.zeros(x.shape)    # we then do a forward pass for every timestep in the sequence\n",
        "            new_input[t] = x[t]              # for this, we define a single input for that timestep\n",
        "            mulu = np.dot(U, new_input)\n",
        "            mulw = np.dot(W, prev_s)\n",
        "            add = mulw + mulu\n",
        "            s = sigmoid(add)\n",
        "            mulv = np.dot(V, s)\n",
        "            prev_s = s\n",
        "\n",
        "    # calculate error \n",
        "        loss_per_record = (y - mulv)**2 / 2\n",
        "        loss += loss_per_record\n",
        "    loss = loss / float(y.shape[0])"
      ],
      "execution_count": 0,
      "outputs": []
    },
    {
      "cell_type": "code",
      "metadata": {
        "id": "COvptKqVFeeh",
        "colab_type": "code",
        "colab": {}
      },
      "source": [
        ""
      ],
      "execution_count": 0,
      "outputs": []
    },
    {
      "cell_type": "markdown",
      "metadata": {
        "id": "zkIXfvjVFhf1",
        "colab_type": "text"
      },
      "source": [
        "\n",
        "الخطوة 2.2: التحقق من الخسارة في بيانات التحقق من الصحة\n",
        "\n",
        "ونقوم بعمل نفس الشيء لحساب الخسارة في الvalidation data بيانات التحقق من الصحة."
      ]
    },
    {
      "cell_type": "code",
      "metadata": {
        "id": "KgGaZURhFiaw",
        "colab_type": "code",
        "colab": {
          "base_uri": "https://localhost:8080/",
          "height": 34
        },
        "outputId": "0b1571ab-b978-4979-da09-d643d5c4454a"
      },
      "source": [
        "# check loss on val\n",
        "val_loss = 0.0\n",
        "for i in range(Y_val.shape[0]):\n",
        "    x, y = X_val[i], Y_val[i]\n",
        "    prev_s = np.zeros((hidden_dim, 1))\n",
        "    for t in range(T):\n",
        "        new_input = np.zeros(x.shape)\n",
        "        new_input[t] = x[t]\n",
        "        mulu = np.dot(U, new_input)\n",
        "        mulw = np.dot(W, prev_s)\n",
        "        add = mulw + mulu\n",
        "        s = sigmoid(add)\n",
        "        mulv = np.dot(V, s)\n",
        "        prev_s = s\n",
        "\n",
        "    loss_per_record = (y - mulv)**2 / 2\n",
        "    val_loss += loss_per_record\n",
        "val_loss = val_loss / float(y.shape[0])\n",
        "\n",
        "print('Epoch: ', epoch + 1, ', Loss: ', loss, ', Val Loss: ', val_loss)"
      ],
      "execution_count": 15,
      "outputs": [
        {
          "output_type": "stream",
          "text": [
            "Epoch:  25 , Loss:  [[132706.56459783]] , Val Loss:  [[66351.2554936]]\n"
          ],
          "name": "stdout"
        }
      ]
    },
    {
      "cell_type": "code",
      "metadata": {
        "id": "6N_ICuWUFk_l",
        "colab_type": "code",
        "colab": {}
      },
      "source": [
        ""
      ],
      "execution_count": 0,
      "outputs": []
    },
    {
      "cell_type": "markdown",
      "metadata": {
        "id": "nho6k-z2FqR4",
        "colab_type": "text"
      },
      "source": [
        "الخطوة 2.3: بدء التدريب الفعلي\n",
        "\n",
        "في البداية نقوم بعمل forward pass لحساب الأخطاء، ثم backward pass لحساب gradients وتحديثها، دعنا نر هذا معا بالتفصيل وخطوة بخطوة لكي تتمكن من تصوره بشكل أفضل\n",
        "\n",
        "الخطوة 2.3.1: تمرير إلى الأمام\n",
        "\n",
        "في الforward pass \n",
        "\n",
        "في البداية علينا ضرب الدخل في أوزان الطبقة ما بين الدخل والطبقة الخفية.\n",
        "وجمع هذا مع حاصل ضرب الأوزان في  طبقة الRNN.\n",
        "وتمريره عبر دالة التفعيل sigmoid.\n",
        "وضربه في الأوزان ما بين الطبقات المخفية والخرج.\n",
        "في طبقة الخرج، لدينا تفعيل خطي للقيم linear activation، حتى لا نقوم بتمرير القيمة صريحة خلال طبقة التنشيط.\n",
        "احفظ الحالة المتواجدة في الطبقة الحالية، وأيضا الحالة الموجودة في الطبقة السابقة في dictionary.\n",
        "وهذا هو الكود للforward pass، لاحظ أنه فقط امتداد للحلقة الموجودة أعلاه."
      ]
    },
    {
      "cell_type": "code",
      "metadata": {
        "id": "GtAVwY-cFrMj",
        "colab_type": "code",
        "colab": {}
      },
      "source": [
        "# train model\n",
        "for i in range(Y.shape[0]):\n",
        "    x, y = X[i], Y[i]\n",
        "\n",
        "    layers = []\n",
        "    prev_s = np.zeros((hidden_dim, 1))\n",
        "    dU = np.zeros(U.shape)\n",
        "    dV = np.zeros(V.shape)\n",
        "    dW = np.zeros(W.shape)\n",
        "    \n",
        "    dU_t = np.zeros(U.shape)\n",
        "    dV_t = np.zeros(V.shape)\n",
        "    dW_t = np.zeros(W.shape)\n",
        "    \n",
        "    dU_i = np.zeros(U.shape)\n",
        "    dW_i = np.zeros(W.shape)\n",
        "    \n",
        "    # forward pass\n",
        "    for t in range(T):\n",
        "        new_input = np.zeros(x.shape)\n",
        "        new_input[t] = x[t]\n",
        "        mulu = np.dot(U, new_input)\n",
        "        mulw = np.dot(W, prev_s)\n",
        "        add = mulw + mulu\n",
        "        s = sigmoid(add)\n",
        "        mulv = np.dot(V, s)\n",
        "        layers.append({'s':s, 'prev_s':prev_s})\n",
        "        prev_s = s"
      ],
      "execution_count": 0,
      "outputs": []
    },
    {
      "cell_type": "code",
      "metadata": {
        "id": "4-xHUzxvFukC",
        "colab_type": "code",
        "colab": {}
      },
      "source": [
        ""
      ],
      "execution_count": 0,
      "outputs": []
    },
    {
      "cell_type": "markdown",
      "metadata": {
        "id": "k68tmXCMFxmB",
        "colab_type": "text"
      },
      "source": [
        "\n",
        "الخطوة 2.3.2: Backpropagate Error\n",
        "\n",
        "بعد الforward propagation، نقوم بحساب الgradients في كل طبقة، وعمل back propagate للErrors، سوف نقوم باستخدام truncated back propagation  خلال الزمن (TBPTT) بدلا من vanilla backprop. ربما تبدو مقعدة بعض الشيء ولكنها في الحقيقة بسيطة للغاية.\n",
        "\n",
        "الفرق الأساسي بين BPTT مقارنة بال  backprop، هو أن خطوة ال backpropagation يتم تطبيقها لكل الخطوات بتغير الزمن في نموذج الRNN. وبذلك إذا كان طول التسلسل 50، فسنقوم بالنسخ الاحتياطي لكل الخطوات السابقة في الزمن حتى الوقت الحالي.\n",
        "\n",
        "إذا كنت قد فهمت ما أعنيه، فلابد أنك استوعبت أن ال BPTT يبدو مكلف للغاية من الناحية الحسابية، ولذلك بدلا من النسخ الاحتياطي لكل الخطوات السابقة في الزمن، نقوم بالنسخ حتى x time steps أو خطوة زمنية لتوفير القوة الحسابية.\n",
        "\n",
        "اعتبر هذه الأيدلوجية مشابهة ل stochastic gradient descent ، والتي تشمل دفعة من  البيانات بدلا من البيانات كلها.\n",
        "\n",
        "وهذا هو الكود لعمل backpropagation Error"
      ]
    },
    {
      "cell_type": "code",
      "metadata": {
        "id": "lCXaLxfVFyQR",
        "colab_type": "code",
        "colab": {}
      },
      "source": [
        "# derivative of pred\n",
        "dmulv = (mulv - y)\n",
        "\n",
        "# backward pass\n",
        "for t in range(T):\n",
        "    dV_t = np.dot(dmulv, np.transpose(layers[t]['s']))\n",
        "    dsv = np.dot(np.transpose(V), dmulv)\n",
        "    \n",
        "    ds = dsv\n",
        "    dadd = add * (1 - add) * ds\n",
        "    \n",
        "    dmulw = dadd * np.ones_like(mulw)\n",
        "\n",
        "    dprev_s = np.dot(np.transpose(W), dmulw)\n",
        "\n",
        "\n",
        "    for i in range(t-1, max(-1, t-bptt_truncate-1), -1):\n",
        "        ds = dsv + dprev_s\n",
        "        dadd = add * (1 - add) * ds\n",
        "\n",
        "        dmulw = dadd * np.ones_like(mulw)\n",
        "        dmulu = dadd * np.ones_like(mulu)\n",
        "\n",
        "        dW_i = np.dot(W, layers[t]['prev_s'])\n",
        "        dprev_s = np.dot(np.transpose(W), dmulw)\n",
        "\n",
        "        new_input = np.zeros(x.shape)\n",
        "        new_input[t] = x[t]\n",
        "        dU_i = np.dot(U, new_input)\n",
        "        dx = np.dot(np.transpose(U), dmulu)\n",
        "\n",
        "        dU_t += dU_i\n",
        "        dW_t += dW_i\n",
        "        \n",
        "    dV += dV_t\n",
        "    dU += dU_t\n",
        "    dW += dW_t"
      ],
      "execution_count": 0,
      "outputs": []
    },
    {
      "cell_type": "code",
      "metadata": {
        "id": "rLMXWNXzF2Fv",
        "colab_type": "code",
        "colab": {}
      },
      "source": [
        ""
      ],
      "execution_count": 0,
      "outputs": []
    },
    {
      "cell_type": "markdown",
      "metadata": {
        "id": "hq9RyiPYF4pA",
        "colab_type": "text"
      },
      "source": [
        "\n",
        "الخطوة 2.3.3: تحديث الأوزان\n",
        "\n",
        "أخيرا نقوم بتحديث الأوزان مع تدرجات gradients الأوزان المحسوبة، أما الأمر الذي يجب أخذه في الاعتبار هو أن الgradients غالبا ما تنفجر إذا لم تقم بإبقائها قيد الفحص، وهذه مشكلة أساسية في تدريب الشبكات العصبية تدعى exploding gradient problem. لذلك علينا الإبقاء عليها في مدى محدد حتى لا تنفجر. ويمكننا فعل ذلك بالطريقة التالية :"
      ]
    },
    {
      "cell_type": "code",
      "metadata": {
        "id": "7IqcSf61F5CJ",
        "colab_type": "code",
        "colab": {}
      },
      "source": [
        "    if dU.max() > max_clip_value:\n",
        "        dU[dU > max_clip_value] = max_clip_value\n",
        "    if dV.max() > max_clip_value:\n",
        "        dV[dV > max_clip_value] = max_clip_value\n",
        "    if dW.max() > max_clip_value:\n",
        "        dW[dW > max_clip_value] = max_clip_value\n",
        "        \n",
        "    \n",
        "    if dU.min() < min_clip_value:\n",
        "        dU[dU < min_clip_value] = min_clip_value\n",
        "    if dV.min() < min_clip_value:\n",
        "        dV[dV < min_clip_value] = min_clip_value\n",
        "    if dW.min() < min_clip_value:\n",
        "        dW[dW < min_clip_value] = min_clip_value\n",
        "\n",
        "# update\n",
        "U -= learning_rate * dU\n",
        "V -= learning_rate * dV\n",
        "W -= learning_rate * dW"
      ],
      "execution_count": 0,
      "outputs": []
    },
    {
      "cell_type": "code",
      "metadata": {
        "id": "PhF2IzekF8VC",
        "colab_type": "code",
        "colab": {}
      },
      "source": [
        ""
      ],
      "execution_count": 0,
      "outputs": []
    },
    {
      "cell_type": "markdown",
      "metadata": {
        "id": "3TDkX0RoGGzQ",
        "colab_type": "text"
      },
      "source": [
        "بدو جيدا! الآن، حان الوقت للحصول على التنبؤات، ورسمها للحصول على تصور مرئي لما قمنا به حتى الآن.\n",
        "\n",
        "الخطوة (3) : الحصول على التنبؤات\n",
        "\n",
        "سنقوم بعمل تمرير أمامي خلال الأوزان المدربة للحصول على التنبؤات التي نحتاجها"
      ]
    },
    {
      "cell_type": "code",
      "metadata": {
        "id": "472i7w_wGHuK",
        "colab_type": "code",
        "colab": {}
      },
      "source": [
        "preds = []\n",
        "for i in range(Y.shape[0]):\n",
        "    x, y = X[i], Y[i]\n",
        "    prev_s = np.zeros((hidden_dim, 1))\n",
        "    # Forward pass\n",
        "    for t in range(T):\n",
        "        mulu = np.dot(U, x)\n",
        "        mulw = np.dot(W, prev_s)\n",
        "        add = mulw + mulu\n",
        "        s = sigmoid(add)\n",
        "        mulv = np.dot(V, s)\n",
        "        prev_s = s\n",
        "\n",
        "    preds.append(mulv)\n",
        "    \n",
        "preds = np.array(preds)"
      ],
      "execution_count": 0,
      "outputs": []
    },
    {
      "cell_type": "code",
      "metadata": {
        "id": "gBWx7tUBGLBD",
        "colab_type": "code",
        "colab": {
          "base_uri": "https://localhost:8080/",
          "height": 265
        },
        "outputId": "6a34cf84-5a03-4857-af55-62a6e374fa5e"
      },
      "source": [
        "plt.plot(preds[:, 0, 0], 'g')\n",
        "plt.plot(Y[:, 0], 'r')\n",
        "plt.show()"
      ],
      "execution_count": 21,
      "outputs": [
        {
          "output_type": "display_data",
          "data": {
            "image/png": "[encoded data removed]",
            "text/plain": [
              "<Figure size 432x288 with 1 Axes>"
            ]
          },
          "metadata": {
            "tags": []
          }
        }
      ]
    },
    {
      "cell_type": "markdown",
      "metadata": {
        "id": "is2-xDr0GTDC",
        "colab_type": "text"
      },
      "source": [
        "لكن، كيف نعرف أن نموذجنا لم يحدث له overfit، هنا يأتي دور الvalidation set التي قمنا بكتابتها من قبل :"
      ]
    },
    {
      "cell_type": "code",
      "metadata": {
        "id": "OmE8kW4xGOZb",
        "colab_type": "code",
        "colab": {
          "base_uri": "https://localhost:8080/",
          "height": 265
        },
        "outputId": "b37bd74a-907b-428d-b372-ff9ad4a6287b"
      },
      "source": [
        "preds = []\n",
        "for i in range(Y_val.shape[0]):\n",
        "    x, y = X_val[i], Y_val[i]\n",
        "    prev_s = np.zeros((hidden_dim, 1))\n",
        "    # For each time step...\n",
        "    for t in range(T):\n",
        "        mulu = np.dot(U, x)\n",
        "        mulw = np.dot(W, prev_s)\n",
        "        add = mulw + mulu\n",
        "        s = sigmoid(add)\n",
        "        mulv = np.dot(V, s)\n",
        "        prev_s = s\n",
        "\n",
        "    preds.append(mulv)\n",
        "    \n",
        "preds = np.array(preds)\n",
        "\n",
        "plt.plot(preds[:, 0, 0], 'g')\n",
        "plt.plot(Y_val[:, 0], 'r')\n",
        "plt.show()"
      ],
      "execution_count": 22,
      "outputs": [
        {
          "output_type": "display_data",
          "data": {
            "image/png": "[encoded data removed]",
            "text/plain": [
              "<Figure size 432x288 with 1 Axes>"
            ]
          },
          "metadata": {
            "tags": []
          }
        }
      ]
    },
    {
      "cell_type": "code",
      "metadata": {
        "id": "NLnrYSysGWLT",
        "colab_type": "code",
        "colab": {}
      },
      "source": [
        ""
      ],
      "execution_count": 0,
      "outputs": []
    },
    {
      "cell_type": "markdown",
      "metadata": {
        "id": "angllnqQGaHe",
        "colab_type": "text"
      },
      "source": [
        "ليس سيئا، تبدو التنبؤات مبهرة بشكل ما، ودرجة الRMSE لل validation set جيدة أيضا."
      ]
    },
    {
      "cell_type": "code",
      "metadata": {
        "id": "F--Mfhw0Ga2z",
        "colab_type": "code",
        "colab": {
          "base_uri": "https://localhost:8080/",
          "height": 198
        },
        "outputId": "5c201f74-d8a0-4567-c3d6-2aaf76d1c1d6"
      },
      "source": [
        "from sklearn.metrics import mean_squared_error\n",
        "\n",
        "math.sqrt(mean_squared_error(Y_val[:, 0] * max_val, preds[:, 0, 0] * max_val))"
      ],
      "execution_count": 24,
      "outputs": [
        {
          "output_type": "error",
          "ename": "NameError",
          "evalue": "ignored",
          "traceback": [
            "\u001b[0;31m---------------------------------------------------------------------------\u001b[0m",
            "\u001b[0;31mNameError\u001b[0m                                 Traceback (most recent call last)",
            "\u001b[0;32m<ipython-input-24-fa825f857fe7>\u001b[0m in \u001b[0;36m<module>\u001b[0;34m()\u001b[0m\n\u001b[1;32m      1\u001b[0m \u001b[0;32mfrom\u001b[0m \u001b[0msklearn\u001b[0m\u001b[0;34m.\u001b[0m\u001b[0mmetrics\u001b[0m \u001b[0;32mimport\u001b[0m \u001b[0mmean_squared_error\u001b[0m\u001b[0;34m\u001b[0m\u001b[0;34m\u001b[0m\u001b[0m\n\u001b[1;32m      2\u001b[0m \u001b[0;34m\u001b[0m\u001b[0m\n\u001b[0;32m----> 3\u001b[0;31m \u001b[0mmath\u001b[0m\u001b[0;34m.\u001b[0m\u001b[0msqrt\u001b[0m\u001b[0;34m(\u001b[0m\u001b[0mmean_squared_error\u001b[0m\u001b[0;34m(\u001b[0m\u001b[0mY_val\u001b[0m\u001b[0;34m[\u001b[0m\u001b[0;34m:\u001b[0m\u001b[0;34m,\u001b[0m \u001b[0;36m0\u001b[0m\u001b[0;34m]\u001b[0m \u001b[0;34m*\u001b[0m \u001b[0mmax_val\u001b[0m\u001b[0;34m,\u001b[0m \u001b[0mpreds\u001b[0m\u001b[0;34m[\u001b[0m\u001b[0;34m:\u001b[0m\u001b[0;34m,\u001b[0m \u001b[0;36m0\u001b[0m\u001b[0;34m,\u001b[0m \u001b[0;36m0\u001b[0m\u001b[0;34m]\u001b[0m \u001b[0;34m*\u001b[0m \u001b[0mmax_val\u001b[0m\u001b[0;34m)\u001b[0m\u001b[0;34m)\u001b[0m\u001b[0;34m\u001b[0m\u001b[0;34m\u001b[0m\u001b[0m\n\u001b[0m",
            "\u001b[0;31mNameError\u001b[0m: name 'max_val' is not defined"
          ]
        }
      ]
    },
    {
      "cell_type": "code",
      "metadata": {
        "id": "Ge-EyDw2GeMr",
        "colab_type": "code",
        "colab": {}
      },
      "source": [
        ""
      ],
      "execution_count": 0,
      "outputs": []
    }
  ]
}